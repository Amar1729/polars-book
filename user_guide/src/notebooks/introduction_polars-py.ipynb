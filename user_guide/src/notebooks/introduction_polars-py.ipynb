{
 "cells": [
  {
   "cell_type": "code",
   "execution_count": 1,
   "id": "animated-cookbook",
   "metadata": {},
   "outputs": [],
   "source": [
    "import polars as pl"
   ]
  },
  {
   "attachments": {},
   "cell_type": "markdown",
   "id": "assisted-channels",
   "metadata": {
    "tags": []
   },
   "source": [
    "# Expressions\n",
    "Expressions are functions that map a Series to a Series:\n",
    "`fn(Series) -> Series`\n",
    "\n",
    "\n",
    "* Expressions are lazily evaluated\n",
    "    - Can be optimized by the query optimizer\n",
    "* Expressions within the same method (e.g. `select`,`with_columns` or `agg`) are evaluated in parallel\n",
    "* The input Series to an expression is context dependent\n",
    "    - In the *selection* (filtering)  or *projection* (selecting columns) the input Series is a column or a literal value\n",
    "    - In the groupby-aggregation context the input Series is the Series for that group\n"
   ]
  },
  {
   "cell_type": "code",
   "execution_count": 2,
   "id": "printable-month",
   "metadata": {},
   "outputs": [
    {
     "data": {
      "text/html": [
       "<div><style>\n",
       ".dataframe > thead > tr > th,\n",
       ".dataframe > tbody > tr > td {\n",
       "  text-align: right;\n",
       "}\n",
       "</style>\n",
       "<small>shape: (5, 5)</small><table border=\"1\" class=\"dataframe\"><thead><tr><th>A</th><th>fruits</th><th>B</th><th>cars</th><th>optional</th></tr><tr><td>i64</td><td>str</td><td>i64</td><td>str</td><td>i64</td></tr></thead><tbody><tr><td>1</td><td>&quot;banana&quot;</td><td>5</td><td>&quot;beetle&quot;</td><td>28</td></tr><tr><td>2</td><td>&quot;banana&quot;</td><td>4</td><td>&quot;audi&quot;</td><td>300</td></tr><tr><td>3</td><td>&quot;apple&quot;</td><td>3</td><td>&quot;beetle&quot;</td><td>null</td></tr><tr><td>4</td><td>&quot;apple&quot;</td><td>2</td><td>&quot;beetle&quot;</td><td>2</td></tr><tr><td>5</td><td>&quot;banana&quot;</td><td>1</td><td>&quot;beetle&quot;</td><td>-30</td></tr></tbody></table></div>"
      ],
      "text/plain": [
       "shape: (5, 5)\n",
       "┌─────┬────────┬─────┬────────┬──────────┐\n",
       "│ A   ┆ fruits ┆ B   ┆ cars   ┆ optional │\n",
       "│ --- ┆ ---    ┆ --- ┆ ---    ┆ ---      │\n",
       "│ i64 ┆ str    ┆ i64 ┆ str    ┆ i64      │\n",
       "╞═════╪════════╪═════╪════════╪══════════╡\n",
       "│ 1   ┆ banana ┆ 5   ┆ beetle ┆ 28       │\n",
       "│ 2   ┆ banana ┆ 4   ┆ audi   ┆ 300      │\n",
       "│ 3   ┆ apple  ┆ 3   ┆ beetle ┆ null     │\n",
       "│ 4   ┆ apple  ┆ 2   ┆ beetle ┆ 2        │\n",
       "│ 5   ┆ banana ┆ 1   ┆ beetle ┆ -30      │\n",
       "└─────┴────────┴─────┴────────┴──────────┘"
      ]
     },
     "execution_count": 2,
     "metadata": {},
     "output_type": "execute_result"
    }
   ],
   "source": [
    "df = pl.DataFrame(\n",
    "    {\n",
    "        \"A\": [1, 2, 3, 4, 5],\n",
    "        \"fruits\": [\"banana\", \"banana\", \"apple\", \"apple\", \"banana\"],\n",
    "        \"B\": [5, 4, 3, 2, 1],\n",
    "        \"cars\": [\"beetle\", \"audi\", \"beetle\", \"beetle\", \"beetle\"],\n",
    "        \"optional\": [28, 300, None, 2, -30],\n",
    "    }\n",
    ")\n",
    "df"
   ]
  },
  {
   "cell_type": "markdown",
   "id": "collectible-jewelry",
   "metadata": {},
   "source": [
    "# Selection context"
   ]
  },
  {
   "cell_type": "code",
   "execution_count": 32,
   "id": "minus-mounting",
   "metadata": {},
   "outputs": [
    {
     "data": {
      "text/html": [
       "<div><style>\n",
       ".dataframe > thead > tr > th,\n",
       ".dataframe > tbody > tr > td {\n",
       "  text-align: right;\n",
       "}\n",
       "</style>\n",
       "<small>shape: (5, 3)</small><table border=\"1\" class=\"dataframe\"><thead><tr><th>A</th><th>B</th><th>literal</th></tr><tr><td>i64</td><td>i64</td><td>str</td></tr></thead><tbody><tr><td>1</td><td>5</td><td>&quot;B&quot;</td></tr><tr><td>2</td><td>4</td><td>&quot;B&quot;</td></tr><tr><td>3</td><td>3</td><td>&quot;B&quot;</td></tr><tr><td>4</td><td>2</td><td>&quot;B&quot;</td></tr><tr><td>5</td><td>1</td><td>&quot;B&quot;</td></tr></tbody></table></div>"
      ],
      "text/plain": [
       "shape: (5, 3)\n",
       "┌─────┬─────┬─────────┐\n",
       "│ A   ┆ B   ┆ literal │\n",
       "│ --- ┆ --- ┆ ---     │\n",
       "│ i64 ┆ i64 ┆ str     │\n",
       "╞═════╪═════╪═════════╡\n",
       "│ 1   ┆ 5   ┆ B       │\n",
       "│ 2   ┆ 4   ┆ B       │\n",
       "│ 3   ┆ 3   ┆ B       │\n",
       "│ 4   ┆ 2   ┆ B       │\n",
       "│ 5   ┆ 1   ┆ B       │\n",
       "└─────┴─────┴─────────┘"
      ]
     },
     "execution_count": 32,
     "metadata": {},
     "output_type": "execute_result"
    }
   ],
   "source": [
    "# Within select, we can use the col function to refer to columns.\n",
    "# If we are not applying any function to the column, we can also use the column name as a string.\n",
    "\n",
    "(\n",
    "    df\n",
    "    .select(\n",
    "        [\n",
    "            pl.col(\"A\"),\n",
    "            \"B\",      # the col part is inferred\n",
    "            pl.lit(\"B\"),  # the pl.lit functions tell polars we mean the literal \"B\"\n",
    "        ]\n",
    "    )\n",
    ")"
   ]
  },
  {
   "cell_type": "code",
   "execution_count": null,
   "id": "d8968616",
   "metadata": {},
   "outputs": [],
   "source": [
    "# We can use a list within select (example above) or a comma-separated list of expressions (this example).\n",
    "\n",
    "(\n",
    "    df\n",
    "    .select(\n",
    "        pl.col(\"A\"),\n",
    "        \"B\",      \n",
    "        pl.lit(\"B\"),  \n",
    "    )\n",
    ")"
   ]
  },
  {
   "cell_type": "code",
   "execution_count": 4,
   "id": "valued-civilization",
   "metadata": {},
   "outputs": [
    {
     "data": {
      "text/html": [
       "<div><style>\n",
       ".dataframe > thead > tr > th,\n",
       ".dataframe > tbody > tr > td {\n",
       "  text-align: right;\n",
       "}\n",
       "</style>\n",
       "<small>shape: (1, 2)</small><table border=\"1\" class=\"dataframe\"><thead><tr><th>A</th><th>B</th></tr><tr><td>i64</td><td>i64</td></tr></thead><tbody><tr><td>15</td><td>15</td></tr></tbody></table></div>"
      ],
      "text/plain": [
       "shape: (1, 2)\n",
       "┌─────┬─────┐\n",
       "│ A   ┆ B   │\n",
       "│ --- ┆ --- │\n",
       "│ i64 ┆ i64 │\n",
       "╞═════╪═════╡\n",
       "│ 15  ┆ 15  │\n",
       "└─────┴─────┘"
      ]
     },
     "execution_count": 4,
     "metadata": {},
     "output_type": "execute_result"
    }
   ],
   "source": [
    "# We can select columns with a regex if the regex starts with '^' and ends with '$'\n",
    "\n",
    "(\n",
    "    df\n",
    "    .select(    \n",
    "        pl.col(\"^A|B$\").sum()\n",
    "    )\n",
    ")"
   ]
  },
  {
   "cell_type": "code",
   "execution_count": 5,
   "id": "experimental-mobility",
   "metadata": {},
   "outputs": [
    {
     "data": {
      "text/html": [
       "<div><style>\n",
       ".dataframe > thead > tr > th,\n",
       ".dataframe > tbody > tr > td {\n",
       "  text-align: right;\n",
       "}\n",
       "</style>\n",
       "<small>shape: (1, 2)</small><table border=\"1\" class=\"dataframe\"><thead><tr><th>A</th><th>B</th></tr><tr><td>i64</td><td>i64</td></tr></thead><tbody><tr><td>15</td><td>15</td></tr></tbody></table></div>"
      ],
      "text/plain": [
       "shape: (1, 2)\n",
       "┌─────┬─────┐\n",
       "│ A   ┆ B   │\n",
       "│ --- ┆ --- │\n",
       "│ i64 ┆ i64 │\n",
       "╞═════╪═════╡\n",
       "│ 15  ┆ 15  │\n",
       "└─────┴─────┘"
      ]
     },
     "execution_count": 5,
     "metadata": {},
     "output_type": "execute_result"
    }
   ],
   "source": [
    "# We can select multiple columns by name\n",
    "\n",
    "(\n",
    "    df\n",
    "    .select(\n",
    "        pl.col([\"A\", \"B\"]).sum()\n",
    "    )\n",
    ")"
   ]
  },
  {
   "cell_type": "code",
   "execution_count": 6,
   "id": "regional-spencer",
   "metadata": {},
   "outputs": [
    {
     "data": {
      "text/html": [
       "<div><style>\n",
       ".dataframe > thead > tr > th,\n",
       ".dataframe > tbody > tr > td {\n",
       "  text-align: right;\n",
       "}\n",
       "</style>\n",
       "<small>shape: (5, 10)</small><table border=\"1\" class=\"dataframe\"><thead><tr><th>A</th><th>fruits</th><th>B</th><th>cars</th><th>optional</th><th>A_reverse</th><th>fruits_reverse</th><th>B_reverse</th><th>cars_reverse</th><th>optional_reverse</th></tr><tr><td>i64</td><td>str</td><td>i64</td><td>str</td><td>i64</td><td>i64</td><td>str</td><td>i64</td><td>str</td><td>i64</td></tr></thead><tbody><tr><td>1</td><td>&quot;banana&quot;</td><td>5</td><td>&quot;beetle&quot;</td><td>28</td><td>5</td><td>&quot;banana&quot;</td><td>1</td><td>&quot;beetle&quot;</td><td>-30</td></tr><tr><td>2</td><td>&quot;banana&quot;</td><td>4</td><td>&quot;audi&quot;</td><td>300</td><td>4</td><td>&quot;apple&quot;</td><td>2</td><td>&quot;beetle&quot;</td><td>2</td></tr><tr><td>3</td><td>&quot;apple&quot;</td><td>3</td><td>&quot;beetle&quot;</td><td>null</td><td>3</td><td>&quot;apple&quot;</td><td>3</td><td>&quot;beetle&quot;</td><td>null</td></tr><tr><td>4</td><td>&quot;apple&quot;</td><td>2</td><td>&quot;beetle&quot;</td><td>2</td><td>2</td><td>&quot;banana&quot;</td><td>4</td><td>&quot;audi&quot;</td><td>300</td></tr><tr><td>5</td><td>&quot;banana&quot;</td><td>1</td><td>&quot;beetle&quot;</td><td>-30</td><td>1</td><td>&quot;banana&quot;</td><td>5</td><td>&quot;beetle&quot;</td><td>28</td></tr></tbody></table></div>"
      ],
      "text/plain": [
       "shape: (5, 10)\n",
       "┌─────┬────────┬─────┬────────┬───┬────────────────┬───────────┬──────────────┬──────────────────┐\n",
       "│ A   ┆ fruits ┆ B   ┆ cars   ┆ … ┆ fruits_reverse ┆ B_reverse ┆ cars_reverse ┆ optional_reverse │\n",
       "│ --- ┆ ---    ┆ --- ┆ ---    ┆   ┆ ---            ┆ ---       ┆ ---          ┆ ---              │\n",
       "│ i64 ┆ str    ┆ i64 ┆ str    ┆   ┆ str            ┆ i64       ┆ str          ┆ i64              │\n",
       "╞═════╪════════╪═════╪════════╪═══╪════════════════╪═══════════╪══════════════╪══════════════════╡\n",
       "│ 1   ┆ banana ┆ 5   ┆ beetle ┆ … ┆ banana         ┆ 1         ┆ beetle       ┆ -30              │\n",
       "│ 2   ┆ banana ┆ 4   ┆ audi   ┆ … ┆ apple          ┆ 2         ┆ beetle       ┆ 2                │\n",
       "│ 3   ┆ apple  ┆ 3   ┆ beetle ┆ … ┆ apple          ┆ 3         ┆ beetle       ┆ null             │\n",
       "│ 4   ┆ apple  ┆ 2   ┆ beetle ┆ … ┆ banana         ┆ 4         ┆ audi         ┆ 300              │\n",
       "│ 5   ┆ banana ┆ 1   ┆ beetle ┆ … ┆ banana         ┆ 5         ┆ beetle       ┆ 28               │\n",
       "└─────┴────────┴─────┴────────┴───┴────────────────┴───────────┴──────────────┴──────────────────┘"
      ]
     },
     "execution_count": 6,
     "metadata": {},
     "output_type": "execute_result"
    }
   ],
   "source": [
    "# We select everything in normal order\n",
    "# Then we select everything in reversed order\n",
    "\n",
    "(\n",
    "    df\n",
    "    .select(\n",
    "        pl.all(),\n",
    "        pl.all().reverse().suffix(\"_reverse\")\n",
    "    )\n",
    ")"
   ]
  },
  {
   "cell_type": "code",
   "execution_count": 7,
   "id": "adopted-waterproof",
   "metadata": {},
   "outputs": [
    {
     "data": {
      "text/html": [
       "<div><style>\n",
       ".dataframe > thead > tr > th,\n",
       ".dataframe > tbody > tr > td {\n",
       "  text-align: right;\n",
       "}\n",
       "</style>\n",
       "<small>shape: (5, 10)</small><table border=\"1\" class=\"dataframe\"><thead><tr><th>A</th><th>fruits</th><th>B</th><th>cars</th><th>optional</th><th>A_sum</th><th>fruits_sum</th><th>B_sum</th><th>cars_sum</th><th>optional_sum</th></tr><tr><td>i64</td><td>str</td><td>i64</td><td>str</td><td>i64</td><td>i64</td><td>str</td><td>i64</td><td>str</td><td>i64</td></tr></thead><tbody><tr><td>1</td><td>&quot;banana&quot;</td><td>5</td><td>&quot;beetle&quot;</td><td>28</td><td>15</td><td>null</td><td>15</td><td>null</td><td>300</td></tr><tr><td>2</td><td>&quot;banana&quot;</td><td>4</td><td>&quot;audi&quot;</td><td>300</td><td>15</td><td>null</td><td>15</td><td>null</td><td>300</td></tr><tr><td>3</td><td>&quot;apple&quot;</td><td>3</td><td>&quot;beetle&quot;</td><td>null</td><td>15</td><td>null</td><td>15</td><td>null</td><td>300</td></tr><tr><td>4</td><td>&quot;apple&quot;</td><td>2</td><td>&quot;beetle&quot;</td><td>2</td><td>15</td><td>null</td><td>15</td><td>null</td><td>300</td></tr><tr><td>5</td><td>&quot;banana&quot;</td><td>1</td><td>&quot;beetle&quot;</td><td>-30</td><td>15</td><td>null</td><td>15</td><td>null</td><td>300</td></tr></tbody></table></div>"
      ],
      "text/plain": [
       "shape: (5, 10)\n",
       "┌─────┬────────┬─────┬────────┬───┬────────────┬───────┬──────────┬──────────────┐\n",
       "│ A   ┆ fruits ┆ B   ┆ cars   ┆ … ┆ fruits_sum ┆ B_sum ┆ cars_sum ┆ optional_sum │\n",
       "│ --- ┆ ---    ┆ --- ┆ ---    ┆   ┆ ---        ┆ ---   ┆ ---      ┆ ---          │\n",
       "│ i64 ┆ str    ┆ i64 ┆ str    ┆   ┆ str        ┆ i64   ┆ str      ┆ i64          │\n",
       "╞═════╪════════╪═════╪════════╪═══╪════════════╪═══════╪══════════╪══════════════╡\n",
       "│ 1   ┆ banana ┆ 5   ┆ beetle ┆ … ┆ null       ┆ 15    ┆ null     ┆ 300          │\n",
       "│ 2   ┆ banana ┆ 4   ┆ audi   ┆ … ┆ null       ┆ 15    ┆ null     ┆ 300          │\n",
       "│ 3   ┆ apple  ┆ 3   ┆ beetle ┆ … ┆ null       ┆ 15    ┆ null     ┆ 300          │\n",
       "│ 4   ┆ apple  ┆ 2   ┆ beetle ┆ … ┆ null       ┆ 15    ┆ null     ┆ 300          │\n",
       "│ 5   ┆ banana ┆ 1   ┆ beetle ┆ … ┆ null       ┆ 15    ┆ null     ┆ 300          │\n",
       "└─────┴────────┴─────┴────────┴───┴────────────┴───────┴──────────┴──────────────┘"
      ]
     },
     "execution_count": 7,
     "metadata": {},
     "output_type": "execute_result"
    }
   ],
   "source": [
    "# All expressions run in parallel\n",
    "# Single valued `Series` are broadcasted to the shape of the `DataFrame`\n",
    "\n",
    "(\n",
    "    df\n",
    "    .select(\n",
    "        pl.all(),\n",
    "        pl.all().sum().suffix(\"_sum\") # This is a single valued Series broadcasted to the shape of the DataFrame\n",
    "    )\n",
    ")"
   ]
  },
  {
   "cell_type": "code",
   "execution_count": 33,
   "id": "periodic-employee",
   "metadata": {},
   "outputs": [
    {
     "data": {
      "text/html": [
       "<div><style>\n",
       ".dataframe > thead > tr > th,\n",
       ".dataframe > tbody > tr > td {\n",
       "  text-align: right;\n",
       "}\n",
       "</style>\n",
       "<small>shape: (3, 5)</small><table border=\"1\" class=\"dataframe\"><thead><tr><th>A</th><th>fruits</th><th>B</th><th>cars</th><th>optional</th></tr><tr><td>i64</td><td>str</td><td>i64</td><td>str</td><td>i64</td></tr></thead><tbody><tr><td>1</td><td>&quot;banana&quot;</td><td>5</td><td>&quot;beetle&quot;</td><td>28</td></tr><tr><td>2</td><td>&quot;banana&quot;</td><td>4</td><td>&quot;audi&quot;</td><td>300</td></tr><tr><td>5</td><td>&quot;banana&quot;</td><td>1</td><td>&quot;beetle&quot;</td><td>-30</td></tr></tbody></table></div>"
      ],
      "text/plain": [
       "shape: (3, 5)\n",
       "┌─────┬────────┬─────┬────────┬──────────┐\n",
       "│ A   ┆ fruits ┆ B   ┆ cars   ┆ optional │\n",
       "│ --- ┆ ---    ┆ --- ┆ ---    ┆ ---      │\n",
       "│ i64 ┆ str    ┆ i64 ┆ str    ┆ i64      │\n",
       "╞═════╪════════╪═════╪════════╪══════════╡\n",
       "│ 1   ┆ banana ┆ 5   ┆ beetle ┆ 28       │\n",
       "│ 2   ┆ banana ┆ 4   ┆ audi   ┆ 300      │\n",
       "│ 5   ┆ banana ┆ 1   ┆ beetle ┆ -30      │\n",
       "└─────┴────────┴─────┴────────┴──────────┘"
      ]
     },
     "execution_count": 33,
     "metadata": {},
     "output_type": "execute_result"
    }
   ],
   "source": [
    "# There are `str` and `dt` namespaces for specialized functions\n",
    "# For example, we can select all rows where the `fruits` column starts with 'b'\n",
    "\n",
    "predicate = pl.col(\"fruits\").str.contains(\"^b.*\")\n",
    "\n",
    "(\n",
    "    df\n",
    "    .filter(\n",
    "        predicate\n",
    "    )\n",
    ")"
   ]
  },
  {
   "cell_type": "code",
   "execution_count": 30,
   "id": "brutal-irish",
   "metadata": {},
   "outputs": [
    {
     "data": {
      "text/html": [
       "<div><style>\n",
       ".dataframe > thead > tr > th,\n",
       ".dataframe > tbody > tr > td {\n",
       "  text-align: right;\n",
       "}\n",
       "</style>\n",
       "<small>shape: (1, 1)</small><table border=\"1\" class=\"dataframe\"><thead><tr><th>A</th></tr><tr><td>i64</td></tr></thead><tbody><tr><td>8</td></tr></tbody></table></div>"
      ],
      "text/plain": [
       "shape: (1, 1)\n",
       "┌─────┐\n",
       "│ A   │\n",
       "│ --- │\n",
       "│ i64 │\n",
       "╞═════╡\n",
       "│ 8   │\n",
       "└─────┘"
      ]
     },
     "execution_count": 30,
     "metadata": {},
     "output_type": "execute_result"
    }
   ],
   "source": [
    "# Filters can also be applied within an expression\n",
    "(\n",
    "    df\n",
    "    .select(\n",
    "        # Sum the values of A where the fruits column starts with 'b'\n",
    "        pl.col(\"A\").filter(pl.col(\"fruits\").str.contains(\"^b.*\")).sum(),\n",
    "    )\n",
    ")"
   ]
  },
  {
   "cell_type": "code",
   "execution_count": 11,
   "id": "treated-intro",
   "metadata": {},
   "outputs": [
    {
     "data": {
      "text/html": [
       "<div><style>\n",
       ".dataframe > thead > tr > th,\n",
       ".dataframe > tbody > tr > td {\n",
       "  text-align: right;\n",
       "}\n",
       "</style>\n",
       "<small>shape: (5, 1)</small><table border=\"1\" class=\"dataframe\"><thead><tr><th>computed</th></tr><tr><td>f64</td></tr></thead><tbody><tr><td>0.002688</td></tr><tr><td>0.004301</td></tr><tr><td>0.004839</td></tr><tr><td>0.004301</td></tr><tr><td>0.002688</td></tr></tbody></table></div>"
      ],
      "text/plain": [
       "shape: (5, 1)\n",
       "┌──────────┐\n",
       "│ computed │\n",
       "│ ---      │\n",
       "│ f64      │\n",
       "╞══════════╡\n",
       "│ 0.002688 │\n",
       "│ 0.004301 │\n",
       "│ 0.004839 │\n",
       "│ 0.004301 │\n",
       "│ 0.002688 │\n",
       "└──────────┘"
      ]
     },
     "execution_count": 11,
     "metadata": {},
     "output_type": "execute_result"
    }
   ],
   "source": [
    "# We can do arithmetic on columns\n",
    "\n",
    "(\n",
    "    df\n",
    "    .select(\n",
    "        (\n",
    "            (pl.col(\"A\") / 124.0 * pl.col(\"B\")) / pl.sum(\"B\")\n",
    "        ).alias(\"computed\")\n",
    "    )\n",
    ")"
   ]
  },
  {
   "cell_type": "code",
   "execution_count": 12,
   "id": "looking-socket",
   "metadata": {},
   "outputs": [
    {
     "data": {
      "text/html": [
       "<div><style>\n",
       ".dataframe > thead > tr > th,\n",
       ".dataframe > tbody > tr > td {\n",
       "  text-align: right;\n",
       "}\n",
       "</style>\n",
       "<small>shape: (5, 3)</small><table border=\"1\" class=\"dataframe\"><thead><tr><th>fruits</th><th>B</th><th>b</th></tr><tr><td>str</td><td>i64</td><td>i64</td></tr></thead><tbody><tr><td>&quot;banana&quot;</td><td>5</td><td>5</td></tr><tr><td>&quot;banana&quot;</td><td>4</td><td>4</td></tr><tr><td>&quot;apple&quot;</td><td>3</td><td>-1</td></tr><tr><td>&quot;apple&quot;</td><td>2</td><td>-1</td></tr><tr><td>&quot;banana&quot;</td><td>1</td><td>1</td></tr></tbody></table></div>"
      ],
      "text/plain": [
       "shape: (5, 3)\n",
       "┌────────┬─────┬─────┐\n",
       "│ fruits ┆ B   ┆ b   │\n",
       "│ ---    ┆ --- ┆ --- │\n",
       "│ str    ┆ i64 ┆ i64 │\n",
       "╞════════╪═════╪═════╡\n",
       "│ banana ┆ 5   ┆ 5   │\n",
       "│ banana ┆ 4   ┆ 4   │\n",
       "│ apple  ┆ 3   ┆ -1  │\n",
       "│ apple  ┆ 2   ┆ -1  │\n",
       "│ banana ┆ 1   ┆ 1   │\n",
       "└────────┴─────┴─────┘"
      ]
     },
     "execution_count": 12,
     "metadata": {},
     "output_type": "execute_result"
    }
   ],
   "source": [
    "# We can combine columns by a predicate\n",
    "# For example when the `fruits` column is 'banana' we set the value equal to the\n",
    "# value in `B` column for that row, otherwise we set the value to be -1\n",
    "\n",
    "(\n",
    "    df\n",
    "    .select(\n",
    "        \"fruits\",\n",
    "        \"B\",\n",
    "        pl.when(\n",
    "            pl.col(\"fruits\") == \"banana\"\n",
    "        )\n",
    "        .then(\n",
    "            pl.col(\"B\"))\n",
    "        .otherwise(-1)\n",
    "        .alias(\"b\")\n",
    "    )\n",
    ")"
   ]
  },
  {
   "cell_type": "code",
   "execution_count": 26,
   "id": "lesser-worse",
   "metadata": {},
   "outputs": [
    {
     "data": {
      "text/html": [
       "<div><style>\n",
       ".dataframe > thead > tr > th,\n",
       ".dataframe > tbody > tr > td {\n",
       "  text-align: right;\n",
       "}\n",
       "</style>\n",
       "<small>shape: (5, 3)</small><table border=\"1\" class=\"dataframe\"><thead><tr><th>A</th><th>B</th><th>fold</th></tr><tr><td>i64</td><td>i64</td><td>f64</td></tr></thead><tbody><tr><td>1</td><td>5</td><td>31.0</td></tr><tr><td>2</td><td>4</td><td>22.0</td></tr><tr><td>3</td><td>3</td><td>15.0</td></tr><tr><td>4</td><td>2</td><td>10.0</td></tr><tr><td>5</td><td>1</td><td>7.0</td></tr></tbody></table></div>"
      ],
      "text/plain": [
       "shape: (5, 3)\n",
       "┌─────┬─────┬──────┐\n",
       "│ A   ┆ B   ┆ fold │\n",
       "│ --- ┆ --- ┆ ---  │\n",
       "│ i64 ┆ i64 ┆ f64  │\n",
       "╞═════╪═════╪══════╡\n",
       "│ 1   ┆ 5   ┆ 31.0 │\n",
       "│ 2   ┆ 4   ┆ 22.0 │\n",
       "│ 3   ┆ 3   ┆ 15.0 │\n",
       "│ 4   ┆ 2   ┆ 10.0 │\n",
       "│ 5   ┆ 1   ┆ 7.0  │\n",
       "└─────┴─────┴──────┘"
      ]
     },
     "execution_count": 26,
     "metadata": {},
     "output_type": "execute_result"
    }
   ],
   "source": [
    "# We can combine columns by a fold operation on column level.\n",
    "# For example we do a horizontal sum where we:\n",
    "# - start with 0\n",
    "# - add the value in the `A` column\n",
    "# - add the value in the `B` column\n",
    "# - add the value in the `B` column squared\n",
    "\n",
    "(\n",
    "    df\n",
    "    .select(\n",
    "        [\n",
    "            \"A\",\n",
    "            \"B\",\n",
    "            pl.fold(\n",
    "                0, \n",
    "                lambda a, b: a + b, \n",
    "                [\n",
    "                    pl.col(\"A\"), \"B\", pl.col(\"B\")**2,\n",
    "                ]\n",
    "            )\n",
    "            .alias(\"fold\")\n",
    "        ]\n",
    "    )\n",
    ")"
   ]
  },
  {
   "attachments": {},
   "cell_type": "markdown",
   "id": "mighty-civilization",
   "metadata": {},
   "source": [
    "# Aggregation context\n",
    "In the aggregation context expressions are applied over groups instead of columns.\n",
    "\n",
    "We pass the expressions as a list to .agg. If we aggregate on the same column multiple times we must use alias on at least one of them to avoid a column name collision\n"
   ]
  },
  {
   "cell_type": "code",
   "execution_count": null,
   "id": "9e08a156",
   "metadata": {},
   "outputs": [],
   "source": [
    "\n",
    "(\n",
    "    df\n",
    "    .groupby(\"fruits\")\n",
    "    .agg(\n",
    "        [\n",
    "            pl.col(\"B\").count().alias(\"B_count\"),\n",
    "            pl.col(\"B\").sum().alias(\"B_sum\")\n",
    "        ]\n",
    "    )\n",
    ")"
   ]
  },
  {
   "cell_type": "code",
   "execution_count": 27,
   "id": "charitable-organ",
   "metadata": {},
   "outputs": [
    {
     "data": {
      "text/html": [
       "<div><style>\n",
       ".dataframe > thead > tr > th,\n",
       ".dataframe > tbody > tr > td {\n",
       "  text-align: right;\n",
       "}\n",
       "</style>\n",
       "<small>shape: (2, 6)</small><table border=\"1\" class=\"dataframe\"><thead><tr><th>fruits</th><th>B_sum</th><th>B_sum2</th><th>fruits_first</th><th>count</th><th>cars</th></tr><tr><td>str</td><td>i64</td><td>i64</td><td>str</td><td>u32</td><td>list[str]</td></tr></thead><tbody><tr><td>&quot;banana&quot;</td><td>10</td><td>10</td><td>&quot;banana&quot;</td><td>3</td><td>[&quot;beetle&quot;, &quot;audi&quot;, &quot;beetle&quot;]</td></tr><tr><td>&quot;apple&quot;</td><td>5</td><td>5</td><td>&quot;apple&quot;</td><td>2</td><td>[&quot;beetle&quot;, &quot;beetle&quot;]</td></tr></tbody></table></div>"
      ],
      "text/plain": [
       "shape: (2, 6)\n",
       "┌────────┬───────┬────────┬──────────────┬───────┬──────────────────────────────┐\n",
       "│ fruits ┆ B_sum ┆ B_sum2 ┆ fruits_first ┆ count ┆ cars                         │\n",
       "│ ---    ┆ ---   ┆ ---    ┆ ---          ┆ ---   ┆ ---                          │\n",
       "│ str    ┆ i64   ┆ i64    ┆ str          ┆ u32   ┆ list[str]                    │\n",
       "╞════════╪═══════╪════════╪══════════════╪═══════╪══════════════════════════════╡\n",
       "│ banana ┆ 10    ┆ 10     ┆ banana       ┆ 3     ┆ [\"beetle\", \"audi\", \"beetle\"] │\n",
       "│ apple  ┆ 5     ┆ 5      ┆ apple        ┆ 2     ┆ [\"beetle\", \"beetle\"]         │\n",
       "└────────┴───────┴────────┴──────────────┴───────┴──────────────────────────────┘"
      ]
     },
     "execution_count": 27,
     "metadata": {},
     "output_type": "execute_result"
    }
   ],
   "source": [
    "# We can aggregate many expressions at once\n",
    "\n",
    "(\n",
    "    df\n",
    "    .groupby(\"fruits\")\n",
    "    .agg(\n",
    "        [\n",
    "            pl.col(\"B\").sum().alias(\"B_sum\"),# Sum of B\n",
    "            pl.first(\"fruits\").alias(\"fruits_first\"),# First value of fruits\n",
    "            pl.count(\"A\").alias(\"count\"),# Count of A\n",
    "            pl.col(\"cars\").reverse() # Reverse the cars column - not an aggregation\n",
    "            # so the output is a pl.List\n",
    "        ]\n",
    "    )\n",
    ")"
   ]
  },
  {
   "cell_type": "code",
   "execution_count": 16,
   "id": "bacterial-comparative",
   "metadata": {},
   "outputs": [
    {
     "data": {
      "text/html": [
       "<div><style>\n",
       ".dataframe > thead > tr > th,\n",
       ".dataframe > tbody > tr > td {\n",
       "  text-align: right;\n",
       "}\n",
       "</style>\n",
       "<small>shape: (5, 6)</small><table border=\"1\" class=\"dataframe\"><thead><tr><th>fruits</th><th>B_sum</th><th>B_sum2</th><th>fruits_first</th><th>count</th><th>cars</th></tr><tr><td>str</td><td>i64</td><td>i64</td><td>str</td><td>u32</td><td>str</td></tr></thead><tbody><tr><td>&quot;banana&quot;</td><td>10</td><td>10</td><td>&quot;banana&quot;</td><td>3</td><td>&quot;beetle&quot;</td></tr><tr><td>&quot;banana&quot;</td><td>10</td><td>10</td><td>&quot;banana&quot;</td><td>3</td><td>&quot;beetle&quot;</td></tr><tr><td>&quot;banana&quot;</td><td>10</td><td>10</td><td>&quot;banana&quot;</td><td>3</td><td>&quot;audi&quot;</td></tr><tr><td>&quot;apple&quot;</td><td>5</td><td>5</td><td>&quot;apple&quot;</td><td>2</td><td>&quot;beetle&quot;</td></tr><tr><td>&quot;apple&quot;</td><td>5</td><td>5</td><td>&quot;apple&quot;</td><td>2</td><td>&quot;beetle&quot;</td></tr></tbody></table></div>"
      ],
      "text/plain": [
       "shape: (5, 6)\n",
       "┌────────┬───────┬────────┬──────────────┬───────┬────────┐\n",
       "│ fruits ┆ B_sum ┆ B_sum2 ┆ fruits_first ┆ count ┆ cars   │\n",
       "│ ---    ┆ ---   ┆ ---    ┆ ---          ┆ ---   ┆ ---    │\n",
       "│ str    ┆ i64   ┆ i64    ┆ str          ┆ u32   ┆ str    │\n",
       "╞════════╪═══════╪════════╪══════════════╪═══════╪════════╡\n",
       "│ banana ┆ 10    ┆ 10     ┆ banana       ┆ 3     ┆ beetle │\n",
       "│ banana ┆ 10    ┆ 10     ┆ banana       ┆ 3     ┆ beetle │\n",
       "│ banana ┆ 10    ┆ 10     ┆ banana       ┆ 3     ┆ audi   │\n",
       "│ apple  ┆ 5     ┆ 5      ┆ apple        ┆ 2     ┆ beetle │\n",
       "│ apple  ┆ 5     ┆ 5      ┆ apple        ┆ 2     ┆ beetle │\n",
       "└────────┴───────┴────────┴──────────────┴───────┴────────┘"
      ]
     },
     "execution_count": 16,
     "metadata": {},
     "output_type": "execute_result"
    }
   ],
   "source": [
    "# We can explode the list column \"cars\" to a new row for each element in the list\n",
    "\n",
    "(\n",
    "    df\n",
    "    .sort(\"cars\")\n",
    "    .groupby(\"fruits\")\n",
    "    .agg(\n",
    "        [\n",
    "            pl.col(\"B\").sum().alias(\"B_sum\"),\n",
    "            pl.sum(\"B\").alias(\"B_sum2\"),  # syntactic sugar for the first\n",
    "            pl.first(\"fruits\").alias(\"fruits_first\"),\n",
    "            pl.count(\"A\").alias(\"count\"),\n",
    "            pl.col(\"cars\").reverse()\n",
    "        ]\n",
    "    )\n",
    "    .explode(\"cars\")\n",
    ")\n"
   ]
  },
  {
   "cell_type": "code",
   "execution_count": 28,
   "id": "novel-attribute",
   "metadata": {},
   "outputs": [
    {
     "data": {
      "text/html": [
       "<div><style>\n",
       ".dataframe > thead > tr > th,\n",
       ".dataframe > tbody > tr > td {\n",
       "  text-align: right;\n",
       "}\n",
       "</style>\n",
       "<small>shape: (2, 2)</small><table border=\"1\" class=\"dataframe\"><thead><tr><th>fruits</th><th>group_row_indices</th></tr><tr><td>str</td><td>list[u32]</td></tr></thead><tbody><tr><td>&quot;apple&quot;</td><td>[2, 3]</td></tr><tr><td>&quot;banana&quot;</td><td>[0, 1, 4]</td></tr></tbody></table></div>"
      ],
      "text/plain": [
       "shape: (2, 2)\n",
       "┌────────┬───────────────────┐\n",
       "│ fruits ┆ group_row_indices │\n",
       "│ ---    ┆ ---               │\n",
       "│ str    ┆ list[u32]         │\n",
       "╞════════╪═══════════════════╡\n",
       "│ apple  ┆ [2, 3]            │\n",
       "│ banana ┆ [0, 1, 4]         │\n",
       "└────────┴───────────────────┘"
      ]
     },
     "execution_count": 28,
     "metadata": {},
     "output_type": "execute_result"
    }
   ],
   "source": [
    "# We can also get a list of the row indices for each group with `agg_groups()`\n",
    "\n",
    "(\n",
    "    df\n",
    "    .groupby(\"fruits\")\n",
    "    .agg(\n",
    "         pl.col(\"B\").agg_groups().alias(\"group_row_indices\"),\n",
    "     )\n",
    ")"
   ]
  },
  {
   "cell_type": "code",
   "execution_count": 29,
   "id": "biological-cooper",
   "metadata": {},
   "outputs": [
    {
     "data": {
      "text/html": [
       "<div><style>\n",
       ".dataframe > thead > tr > th,\n",
       ".dataframe > tbody > tr > td {\n",
       "  text-align: right;\n",
       "}\n",
       "</style>\n",
       "<small>shape: (2, 2)</small><table border=\"1\" class=\"dataframe\"><thead><tr><th>fruits</th><th>B</th></tr><tr><td>str</td><td>i64</td></tr></thead><tbody><tr><td>&quot;apple&quot;</td><td>5</td></tr><tr><td>&quot;banana&quot;</td><td>9</td></tr></tbody></table></div>"
      ],
      "text/plain": [
       "shape: (2, 2)\n",
       "┌────────┬─────┐\n",
       "│ fruits ┆ B   │\n",
       "│ ---    ┆ --- │\n",
       "│ str    ┆ i64 │\n",
       "╞════════╪═════╡\n",
       "│ apple  ┆ 5   │\n",
       "│ banana ┆ 9   │\n",
       "└────────┴─────┘"
      ]
     },
     "execution_count": 29,
     "metadata": {},
     "output_type": "execute_result"
    }
   ],
   "source": [
    "# We can also do filter predicates in groupby\n",
    "# In this example we do not include values of B that are smaller than 1\n",
    "# in the sum\n",
    "(\n",
    "    df\n",
    "    .groupby(\"fruits\")\n",
    "    .agg(\n",
    "        [\n",
    "            pl.col(\"B\").filter(pl.col(\"B\") > 1).sum(),\n",
    "        ]\n",
    "    )\n",
    ")"
   ]
  },
  {
   "attachments": {},
   "cell_type": "markdown",
   "id": "distinct-master",
   "metadata": {},
   "source": [
    "# Window functions\n",
    "\n",
    "Window functions allow us to call expressions on groups of rows. We can then add a column with values based on groups of rows.\n",
    "\n",
    "Window functions allow us to do aggregation in selection context (i.e. keeping all the rows of the original `DataFrame`).\n",
    "\n",
    "The basic pattern for window functions is:\n",
    "```python\n",
    "pl.col(\"foo\").aggregation_expression(..).over(\"column_used_to_group\")\n",
    "```\n"
   ]
  },
  {
   "cell_type": "code",
   "execution_count": 31,
   "id": "e9e49e5b",
   "metadata": {},
   "outputs": [
    {
     "data": {
      "text/html": [
       "<div><style>\n",
       ".dataframe > thead > tr > th,\n",
       ".dataframe > tbody > tr > td {\n",
       "  text-align: right;\n",
       "}\n",
       "</style>\n",
       "<small>shape: (5, 4)</small><table border=\"1\" class=\"dataframe\"><thead><tr><th>fruits</th><th>cars</th><th>B</th><th>B_sum_by_fruits</th></tr><tr><td>str</td><td>str</td><td>i64</td><td>i64</td></tr></thead><tbody><tr><td>&quot;banana&quot;</td><td>&quot;beetle&quot;</td><td>5</td><td>10</td></tr><tr><td>&quot;banana&quot;</td><td>&quot;audi&quot;</td><td>4</td><td>10</td></tr><tr><td>&quot;apple&quot;</td><td>&quot;beetle&quot;</td><td>3</td><td>5</td></tr><tr><td>&quot;apple&quot;</td><td>&quot;beetle&quot;</td><td>2</td><td>5</td></tr><tr><td>&quot;banana&quot;</td><td>&quot;beetle&quot;</td><td>1</td><td>10</td></tr></tbody></table></div>"
      ],
      "text/plain": [
       "shape: (5, 4)\n",
       "┌────────┬────────┬─────┬─────────────────┐\n",
       "│ fruits ┆ cars   ┆ B   ┆ B_sum_by_fruits │\n",
       "│ ---    ┆ ---    ┆ --- ┆ ---             │\n",
       "│ str    ┆ str    ┆ i64 ┆ i64             │\n",
       "╞════════╪════════╪═════╪═════════════════╡\n",
       "│ banana ┆ beetle ┆ 5   ┆ 10              │\n",
       "│ banana ┆ audi   ┆ 4   ┆ 10              │\n",
       "│ apple  ┆ beetle ┆ 3   ┆ 5               │\n",
       "│ apple  ┆ beetle ┆ 2   ┆ 5               │\n",
       "│ banana ┆ beetle ┆ 1   ┆ 10              │\n",
       "└────────┴────────┴─────┴─────────────────┘"
      ]
     },
     "execution_count": 31,
     "metadata": {},
     "output_type": "execute_result"
    }
   ],
   "source": [
    "# Here we add a new column with the sum of B grouped by fruits\n",
    "\n",
    "(\n",
    "    df\n",
    "    .select(\n",
    "        \"fruits\",\n",
    "        \"cars\",\n",
    "        \"B\",\n",
    "        pl.col(\"B\").sum().over(\"fruits\").alias(\"B_sum_by_fruits\"),\n",
    ")\n",
    ")"
   ]
  },
  {
   "cell_type": "code",
   "execution_count": 23,
   "id": "chief-eight",
   "metadata": {},
   "outputs": [
    {
     "data": {
      "text/html": [
       "<div><style>\n",
       ".dataframe > thead > tr > th,\n",
       ".dataframe > tbody > tr > td {\n",
       "  text-align: right;\n",
       "}\n",
       "</style>\n",
       "<small>shape: (5, 5)</small><table border=\"1\" class=\"dataframe\"><thead><tr><th>fruits</th><th>cars</th><th>B</th><th>B_sum_by_fruits</th><th>B_sum_by_cars</th></tr><tr><td>str</td><td>str</td><td>i64</td><td>i64</td><td>i64</td></tr></thead><tbody><tr><td>&quot;banana&quot;</td><td>&quot;beetle&quot;</td><td>5</td><td>10</td><td>11</td></tr><tr><td>&quot;banana&quot;</td><td>&quot;audi&quot;</td><td>4</td><td>10</td><td>4</td></tr><tr><td>&quot;apple&quot;</td><td>&quot;beetle&quot;</td><td>3</td><td>5</td><td>11</td></tr><tr><td>&quot;apple&quot;</td><td>&quot;beetle&quot;</td><td>2</td><td>5</td><td>11</td></tr><tr><td>&quot;banana&quot;</td><td>&quot;beetle&quot;</td><td>1</td><td>10</td><td>11</td></tr></tbody></table></div>"
      ],
      "text/plain": [
       "shape: (5, 5)\n",
       "┌────────┬────────┬─────┬─────────────────┬───────────────┐\n",
       "│ fruits ┆ cars   ┆ B   ┆ B_sum_by_fruits ┆ B_sum_by_cars │\n",
       "│ ---    ┆ ---    ┆ --- ┆ ---             ┆ ---           │\n",
       "│ str    ┆ str    ┆ i64 ┆ i64             ┆ i64           │\n",
       "╞════════╪════════╪═════╪═════════════════╪═══════════════╡\n",
       "│ banana ┆ beetle ┆ 5   ┆ 10              ┆ 11            │\n",
       "│ banana ┆ audi   ┆ 4   ┆ 10              ┆ 4             │\n",
       "│ apple  ┆ beetle ┆ 3   ┆ 5               ┆ 11            │\n",
       "│ apple  ┆ beetle ┆ 2   ┆ 5               ┆ 11            │\n",
       "│ banana ┆ beetle ┆ 1   ┆ 10              ┆ 11            │\n",
       "└────────┴────────┴─────┴─────────────────┴───────────────┘"
      ]
     },
     "execution_count": 23,
     "metadata": {},
     "output_type": "execute_result"
    }
   ],
   "source": [
    "# We can also use window functions to do groupby over multiple columns\n",
    "\n",
    "(\n",
    "    df\n",
    "    .select(\n",
    "        \"fruits\",\n",
    "        \"cars\",\n",
    "        \"B\",\n",
    "        pl.col(\"B\").sum().over(\"fruits\").alias(\"B_sum_by_fruits\"),\n",
    "        pl.col(\"B\").sum().over(\"cars\").alias(\"B_sum_by_cars\"),\n",
    "    )\n",
    ")"
   ]
  },
  {
   "cell_type": "code",
   "execution_count": 25,
   "id": "specialized-figure",
   "metadata": {
    "pycharm": {
     "name": "#%%\n"
    }
   },
   "outputs": [
    {
     "data": {
      "text/html": [
       "<div><style>\n",
       ".dataframe > thead > tr > th,\n",
       ".dataframe > tbody > tr > td {\n",
       "  text-align: right;\n",
       "}\n",
       "</style>\n",
       "<small>shape: (5, 3)</small><table border=\"1\" class=\"dataframe\"><thead><tr><th>fruits</th><th>B</th><th>lag_B_by_fruits</th></tr><tr><td>str</td><td>i64</td><td>i64</td></tr></thead><tbody><tr><td>&quot;banana&quot;</td><td>5</td><td>null</td></tr><tr><td>&quot;banana&quot;</td><td>4</td><td>5</td></tr><tr><td>&quot;apple&quot;</td><td>3</td><td>null</td></tr><tr><td>&quot;apple&quot;</td><td>2</td><td>3</td></tr><tr><td>&quot;banana&quot;</td><td>1</td><td>4</td></tr></tbody></table></div>"
      ],
      "text/plain": [
       "shape: (5, 3)\n",
       "┌────────┬─────┬─────────────────┐\n",
       "│ fruits ┆ B   ┆ lag_B_by_fruits │\n",
       "│ ---    ┆ --- ┆ ---             │\n",
       "│ str    ┆ i64 ┆ i64             │\n",
       "╞════════╪═════╪═════════════════╡\n",
       "│ banana ┆ 5   ┆ null            │\n",
       "│ banana ┆ 4   ┆ 5               │\n",
       "│ apple  ┆ 3   ┆ null            │\n",
       "│ apple  ┆ 2   ┆ 3               │\n",
       "│ banana ┆ 1   ┆ 4               │\n",
       "└────────┴─────┴─────────────────┘"
      ]
     },
     "execution_count": 25,
     "metadata": {},
     "output_type": "execute_result"
    }
   ],
   "source": [
    "# Here we use a window function to lag column B within \"fruits\"\n",
    "\n",
    "(\n",
    "    df\n",
    "    .select(\n",
    "        \"fruits\",\n",
    "        \"B\",\n",
    "        pl.col(\"B\").shift().over(\"fruits\").alias(\"lag_B_by_fruits\")\n",
    "    )\n",
    ")"
   ]
  }
 ],
 "metadata": {
  "kernelspec": {
   "display_name": "Python 3",
   "language": "python",
   "name": "python3"
  },
  "language_info": {
   "codemirror_mode": {
    "name": "ipython",
    "version": 3
   },
   "file_extension": ".py",
   "mimetype": "text/x-python",
   "name": "python",
   "nbconvert_exporter": "python",
   "pygments_lexer": "ipython3",
   "version": "3.10.6"
  }
 },
 "nbformat": 4,
 "nbformat_minor": 5
}
